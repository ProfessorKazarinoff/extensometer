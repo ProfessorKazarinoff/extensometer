{
 "cells": [
  {
   "cell_type": "code",
   "execution_count": 28,
   "metadata": {},
   "outputs": [],
   "source": [
    "import cv2\n",
    "import imutils\n",
    "from math import sqrt"
   ]
  },
  {
   "cell_type": "code",
   "execution_count": 29,
   "metadata": {},
   "outputs": [],
   "source": [
    "def make_red_mask(image_path):\n",
    "    lowerRed = (163, 77, 94)     # use https://github.com/jrosebr1/imutils/blob/master/bin/range-detector\n",
    "    upperRed =  (188, 255, 169)\n",
    "\n",
    "    # import the image, resize and convert to hsv\n",
    "    frame = cv2.imread(image_path)              # import image\n",
    "    frame = imutils.resize(frame,height=600)     # resize\n",
    "    hsv = cv2.cvtColor(frame,cv2.COLOR_BGR2HSV)  #convert to hsv colorspace\n",
    "\n",
    "    # construct mask\n",
    "    mask = cv2.inRange(hsv,lowerRed,upperRed)\n",
    "    mask = cv2.erode(mask, None, iterations=2)\n",
    "    mask = cv2.dilate(mask, None, iterations=2)\n",
    "    cv2.imshow('mask',mask)\n",
    "    cv2.waitKey(0)\n",
    "    # see: https://www.pyimagesearch.com/2015/09/14/ball-tracking-with-opencv/\n",
    "\n",
    "    return(mask)\n",
    "\n",
    "def measure_dot_distance(mask_image):\n",
    "    #find the contours of the mask\n",
    "    cnts = cv2.findContours(mask_image.copy(), cv2.RETR_EXTERNAL, cv2.CHAIN_APPROX_SIMPLE)[-2]\n",
    "    #only proceed if at least 1 contour if found\n",
    "    if len(cnts) > 0:\n",
    "        #find the largest contour first\n",
    "        c = max(cnts, key=cv2.contourArea)\n",
    "        ((x, y), radius) = cv2.minEnclosingCircle(c)\n",
    "        M = cv2.moments(c)\n",
    "        center1 = (int(M[\"m10\"] / M[\"m00\"]), int(M[\"m01\"] / M[\"m00\"]))\n",
    "        print(center1)\n",
    "\n",
    "        cnts_wout_max = cnts - c\n",
    "        c = max(cnts_wout_max, key=cv2.contourArea)\n",
    "        ((x, y), radius) = cv2.minEnclosingCircle(c)\n",
    "        M = cv2.moments(c)\n",
    "        center2 = (int(M[\"m10\"] / M[\"m00\"]), int(M[\"m01\"] / M[\"m00\"]))\n",
    "        print(center2)\n",
    "\n",
    "        d = (center1[0]-center2[0], center1[1]-center2[1])\n",
    "        d = sqrt(d[0]**2 + d[1]**2)\n",
    "\n",
    "        print('distance between dots: {} px'.format(d))"
   ]
  },
  {
   "cell_type": "code",
   "execution_count": 30,
   "metadata": {},
   "outputs": [],
   "source": [
    "mask = make_red_mask('tensile_bar_with_red_dots_cropped.jpg')"
   ]
  },
  {
   "cell_type": "code",
   "execution_count": 31,
   "metadata": {},
   "outputs": [],
   "source": [
    "cnts = cv2.findContours(mask.copy(), cv2.RETR_EXTERNAL, cv2.CHAIN_APPROX_SIMPLE)[-2]"
   ]
  },
  {
   "cell_type": "code",
   "execution_count": 32,
   "metadata": {},
   "outputs": [
    {
     "data": {
      "text/plain": [
       "[array([[[ 63, 514]],\n",
       " \n",
       "        [[ 62, 515]],\n",
       " \n",
       "        [[ 61, 515]],\n",
       " \n",
       "        [[ 61, 516]],\n",
       " \n",
       "        [[ 60, 517]],\n",
       " \n",
       "        [[ 60, 522]],\n",
       " \n",
       "        [[ 62, 524]],\n",
       " \n",
       "        [[ 62, 525]],\n",
       " \n",
       "        [[ 73, 525]],\n",
       " \n",
       "        [[ 73, 519]],\n",
       " \n",
       "        [[ 72, 518]],\n",
       " \n",
       "        [[ 72, 516]],\n",
       " \n",
       "        [[ 71, 515]],\n",
       " \n",
       "        [[ 70, 515]],\n",
       " \n",
       "        [[ 69, 514]]], dtype=int32), array([[[60, 65]],\n",
       " \n",
       "        [[60, 66]],\n",
       " \n",
       "        [[58, 68]],\n",
       " \n",
       "        [[58, 72]],\n",
       " \n",
       "        [[59, 73]],\n",
       " \n",
       "        [[59, 74]],\n",
       " \n",
       "        [[60, 75]],\n",
       " \n",
       "        [[65, 75]],\n",
       " \n",
       "        [[66, 74]],\n",
       " \n",
       "        [[68, 74]],\n",
       " \n",
       "        [[69, 73]],\n",
       " \n",
       "        [[69, 67]],\n",
       " \n",
       "        [[68, 67]],\n",
       " \n",
       "        [[67, 66]],\n",
       " \n",
       "        [[67, 65]]], dtype=int32)]"
      ]
     },
     "execution_count": 32,
     "metadata": {},
     "output_type": "execute_result"
    }
   ],
   "source": [
    "cnts"
   ]
  },
  {
   "cell_type": "code",
   "execution_count": 33,
   "metadata": {},
   "outputs": [
    {
     "data": {
      "text/plain": [
       "array([[[ 63, 514]],\n",
       "\n",
       "       [[ 62, 515]],\n",
       "\n",
       "       [[ 61, 515]],\n",
       "\n",
       "       [[ 61, 516]],\n",
       "\n",
       "       [[ 60, 517]],\n",
       "\n",
       "       [[ 60, 522]],\n",
       "\n",
       "       [[ 62, 524]],\n",
       "\n",
       "       [[ 62, 525]],\n",
       "\n",
       "       [[ 73, 525]],\n",
       "\n",
       "       [[ 73, 519]],\n",
       "\n",
       "       [[ 72, 518]],\n",
       "\n",
       "       [[ 72, 516]],\n",
       "\n",
       "       [[ 71, 515]],\n",
       "\n",
       "       [[ 70, 515]],\n",
       "\n",
       "       [[ 69, 514]]], dtype=int32)"
      ]
     },
     "execution_count": 33,
     "metadata": {},
     "output_type": "execute_result"
    }
   ],
   "source": [
    "cnts[0]"
   ]
  },
  {
   "cell_type": "code",
   "execution_count": 34,
   "metadata": {},
   "outputs": [
    {
     "data": {
      "text/plain": [
       "array([[[60, 65]],\n",
       "\n",
       "       [[60, 66]],\n",
       "\n",
       "       [[58, 68]],\n",
       "\n",
       "       [[58, 72]],\n",
       "\n",
       "       [[59, 73]],\n",
       "\n",
       "       [[59, 74]],\n",
       "\n",
       "       [[60, 75]],\n",
       "\n",
       "       [[65, 75]],\n",
       "\n",
       "       [[66, 74]],\n",
       "\n",
       "       [[68, 74]],\n",
       "\n",
       "       [[69, 73]],\n",
       "\n",
       "       [[69, 67]],\n",
       "\n",
       "       [[68, 67]],\n",
       "\n",
       "       [[67, 66]],\n",
       "\n",
       "       [[67, 65]]], dtype=int32)"
      ]
     },
     "execution_count": 34,
     "metadata": {},
     "output_type": "execute_result"
    }
   ],
   "source": [
    "cnts[1]"
   ]
  },
  {
   "cell_type": "code",
   "execution_count": 35,
   "metadata": {},
   "outputs": [
    {
     "name": "stdout",
     "output_type": "stream",
     "text": [
      "(66, 519)\n"
     ]
    }
   ],
   "source": [
    "c1=cnts[0]\n",
    "((x, y), radius) = cv2.minEnclosingCircle(c1)\n",
    "M1 = cv2.moments(c1)\n",
    "center1 = (int(M1[\"m10\"] / M1[\"m00\"]), int(M1[\"m01\"] / M1[\"m00\"]))\n",
    "print(center1)"
   ]
  },
  {
   "cell_type": "code",
   "execution_count": 36,
   "metadata": {},
   "outputs": [
    {
     "name": "stdout",
     "output_type": "stream",
     "text": [
      "(63, 70)\n"
     ]
    }
   ],
   "source": [
    "c2=cnts[1]\n",
    "((x, y), radius) = cv2.minEnclosingCircle(c2)\n",
    "M2 = cv2.moments(c2)\n",
    "center2 = (int(M2[\"m10\"] / M2[\"m00\"]), int(M2[\"m01\"] / M2[\"m00\"]))\n",
    "print(center2)"
   ]
  },
  {
   "cell_type": "code",
   "execution_count": 37,
   "metadata": {},
   "outputs": [
    {
     "name": "stdout",
     "output_type": "stream",
     "text": [
      "distance between dots: 449.0100221598623 px\n"
     ]
    }
   ],
   "source": [
    "d = (center1[0]-center2[0], center1[1]-center2[1])\n",
    "d = sqrt(d[0]**2 + d[1]**2)\n",
    "print('distance between dots: {} px'.format(d))"
   ]
  },
  {
   "cell_type": "code",
   "execution_count": null,
   "metadata": {},
   "outputs": [],
   "source": []
  }
 ],
 "metadata": {
  "kernelspec": {
   "display_name": "Python 3",
   "language": "python",
   "name": "python3"
  },
  "language_info": {
   "codemirror_mode": {
    "name": "ipython",
    "version": 3
   },
   "file_extension": ".py",
   "mimetype": "text/x-python",
   "name": "python",
   "nbconvert_exporter": "python",
   "pygments_lexer": "ipython3",
   "version": "3.6.4"
  }
 },
 "nbformat": 4,
 "nbformat_minor": 2
}
